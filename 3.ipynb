{
 "cells": [
  {
   "cell_type": "code",
   "execution_count": 22,
   "metadata": {},
   "outputs": [],
   "source": [
    "import pandas as pd"
   ]
  },
  {
   "cell_type": "code",
   "execution_count": 23,
   "metadata": {},
   "outputs": [],
   "source": [
    "import numpy as np"
   ]
  },
  {
   "cell_type": "code",
   "execution_count": 24,
   "metadata": {},
   "outputs": [
    {
     "data": {
      "text/html": [
       "<div>\n",
       "<style scoped>\n",
       "    .dataframe tbody tr th:only-of-type {\n",
       "        vertical-align: middle;\n",
       "    }\n",
       "\n",
       "    .dataframe tbody tr th {\n",
       "        vertical-align: top;\n",
       "    }\n",
       "\n",
       "    .dataframe thead th {\n",
       "        text-align: right;\n",
       "    }\n",
       "</style>\n",
       "<table border=\"1\" class=\"dataframe\">\n",
       "  <thead>\n",
       "    <tr style=\"text-align: right;\">\n",
       "      <th></th>\n",
       "      <th>Month</th>\n",
       "      <th>DayofMonth</th>\n",
       "      <th>DayOfWeek</th>\n",
       "      <th>DepTime</th>\n",
       "      <th>ArrTime</th>\n",
       "      <th>UniqueCarrier</th>\n",
       "      <th>FlightNum</th>\n",
       "      <th>TailNum</th>\n",
       "      <th>AirTime</th>\n",
       "      <th>Origin</th>\n",
       "      <th>Dest</th>\n",
       "      <th>Distance</th>\n",
       "      <th>TaxiIn</th>\n",
       "      <th>TaxiOut</th>\n",
       "      <th>target</th>\n",
       "      <th>Id</th>\n",
       "    </tr>\n",
       "  </thead>\n",
       "  <tbody>\n",
       "    <tr>\n",
       "      <th>0</th>\n",
       "      <td>8</td>\n",
       "      <td>14</td>\n",
       "      <td>4</td>\n",
       "      <td>1334.0</td>\n",
       "      <td>1440.0</td>\n",
       "      <td>XE</td>\n",
       "      <td>430</td>\n",
       "      <td>N13553</td>\n",
       "      <td>54.0</td>\n",
       "      <td>FAT</td>\n",
       "      <td>SAN</td>\n",
       "      <td>314</td>\n",
       "      <td>3.0</td>\n",
       "      <td>9.0</td>\n",
       "      <td>0</td>\n",
       "      <td>FYNC08ZRT1MS</td>\n",
       "    </tr>\n",
       "    <tr>\n",
       "      <th>1</th>\n",
       "      <td>5</td>\n",
       "      <td>3</td>\n",
       "      <td>6</td>\n",
       "      <td>1706.0</td>\n",
       "      <td>2016.0</td>\n",
       "      <td>XE</td>\n",
       "      <td>2567</td>\n",
       "      <td>N12924</td>\n",
       "      <td>103.0</td>\n",
       "      <td>BNA</td>\n",
       "      <td>EWR</td>\n",
       "      <td>748</td>\n",
       "      <td>9.0</td>\n",
       "      <td>18.0</td>\n",
       "      <td>1</td>\n",
       "      <td>4M3EPJ0BFKNV</td>\n",
       "    </tr>\n",
       "    <tr>\n",
       "      <th>2</th>\n",
       "      <td>7</td>\n",
       "      <td>11</td>\n",
       "      <td>5</td>\n",
       "      <td>1323.0</td>\n",
       "      <td>1507.0</td>\n",
       "      <td>XE</td>\n",
       "      <td>2989</td>\n",
       "      <td>N19966</td>\n",
       "      <td>125.0</td>\n",
       "      <td>CLT</td>\n",
       "      <td>IAH</td>\n",
       "      <td>913</td>\n",
       "      <td>6.0</td>\n",
       "      <td>33.0</td>\n",
       "      <td>1</td>\n",
       "      <td>OR30D5LJS4AF</td>\n",
       "    </tr>\n",
       "    <tr>\n",
       "      <th>3</th>\n",
       "      <td>12</td>\n",
       "      <td>11</td>\n",
       "      <td>4</td>\n",
       "      <td>2039.0</td>\n",
       "      <td>2238.0</td>\n",
       "      <td>WN</td>\n",
       "      <td>3743</td>\n",
       "      <td>N215WN</td>\n",
       "      <td>224.0</td>\n",
       "      <td>BWI</td>\n",
       "      <td>DEN</td>\n",
       "      <td>1491</td>\n",
       "      <td>5.0</td>\n",
       "      <td>10.0</td>\n",
       "      <td>1</td>\n",
       "      <td>0PRTFL3QD5ZI</td>\n",
       "    </tr>\n",
       "    <tr>\n",
       "      <th>4</th>\n",
       "      <td>5</td>\n",
       "      <td>23</td>\n",
       "      <td>5</td>\n",
       "      <td>1628.0</td>\n",
       "      <td>1744.0</td>\n",
       "      <td>UA</td>\n",
       "      <td>926</td>\n",
       "      <td>N347UA</td>\n",
       "      <td>60.0</td>\n",
       "      <td>LAX</td>\n",
       "      <td>SFO</td>\n",
       "      <td>337</td>\n",
       "      <td>3.0</td>\n",
       "      <td>13.0</td>\n",
       "      <td>1</td>\n",
       "      <td>DR7UZO31NC2A</td>\n",
       "    </tr>\n",
       "  </tbody>\n",
       "</table>\n",
       "</div>"
      ],
      "text/plain": [
       "   Month  DayofMonth  DayOfWeek  DepTime  ArrTime UniqueCarrier  FlightNum  \\\n",
       "0      8          14          4   1334.0   1440.0            XE        430   \n",
       "1      5           3          6   1706.0   2016.0            XE       2567   \n",
       "2      7          11          5   1323.0   1507.0            XE       2989   \n",
       "3     12          11          4   2039.0   2238.0            WN       3743   \n",
       "4      5          23          5   1628.0   1744.0            UA        926   \n",
       "\n",
       "  TailNum  AirTime Origin Dest  Distance  TaxiIn  TaxiOut  target  \\\n",
       "0  N13553     54.0    FAT  SAN       314     3.0      9.0       0   \n",
       "1  N12924    103.0    BNA  EWR       748     9.0     18.0       1   \n",
       "2  N19966    125.0    CLT  IAH       913     6.0     33.0       1   \n",
       "3  N215WN    224.0    BWI  DEN      1491     5.0     10.0       1   \n",
       "4  N347UA     60.0    LAX  SFO       337     3.0     13.0       1   \n",
       "\n",
       "             Id  \n",
       "0  FYNC08ZRT1MS  \n",
       "1  4M3EPJ0BFKNV  \n",
       "2  OR30D5LJS4AF  \n",
       "3  0PRTFL3QD5ZI  \n",
       "4  DR7UZO31NC2A  "
      ]
     },
     "execution_count": 24,
     "metadata": {},
     "output_type": "execute_result"
    }
   ],
   "source": [
    "df.head()"
   ]
  },
  {
   "cell_type": "code",
   "execution_count": 25,
   "metadata": {},
   "outputs": [],
   "source": [
    "df = pd.read_csv(\"train.csv\")"
   ]
  },
  {
   "cell_type": "code",
   "execution_count": 26,
   "metadata": {},
   "outputs": [],
   "source": [
    "df_new = df.drop(\"target\", axis = 1)"
   ]
  },
  {
   "cell_type": "code",
   "execution_count": 27,
   "metadata": {},
   "outputs": [],
   "source": [
    "test = pd.read_csv(\"test.csv\")"
   ]
  },
  {
   "cell_type": "code",
   "execution_count": 28,
   "metadata": {},
   "outputs": [],
   "source": [
    "from sklearn.linear_model import LogisticRegression"
   ]
  },
  {
   "cell_type": "code",
   "execution_count": 29,
   "metadata": {},
   "outputs": [],
   "source": [
    "logreg = LogisticRegression()"
   ]
  },
  {
   "cell_type": "code",
   "execution_count": 30,
   "metadata": {},
   "outputs": [],
   "source": [
    "target = df[\"target\"]"
   ]
  },
  {
   "cell_type": "code",
   "execution_count": 31,
   "metadata": {},
   "outputs": [
    {
     "data": {
      "text/plain": [
       "Month                0\n",
       "DayofMonth           0\n",
       "DayOfWeek            0\n",
       "DepTime          38968\n",
       "ArrTime          43259\n",
       "UniqueCarrier        0\n",
       "FlightNum            0\n",
       "TailNum          23818\n",
       "AirTime          44155\n",
       "Origin               0\n",
       "Dest                 0\n",
       "Distance             0\n",
       "TaxiIn           43259\n",
       "TaxiOut          39191\n",
       "target               0\n",
       "Id                   0\n",
       "dtype: int64"
      ]
     },
     "execution_count": 31,
     "metadata": {},
     "output_type": "execute_result"
    }
   ],
   "source": [
    "df.isnull().sum(axis=0)"
   ]
  },
  {
   "cell_type": "code",
   "execution_count": 32,
   "metadata": {},
   "outputs": [],
   "source": [
    "df3 = df_new"
   ]
  },
  {
   "cell_type": "code",
   "execution_count": 33,
   "metadata": {},
   "outputs": [],
   "source": [
    "df3 = df3.drop(\"DepTime\", axis = 1)\n",
    "df3 = df3.drop(\"ArrTime\", axis = 1)\n",
    "df3 = df3.drop(\"TailNum\", axis = 1)\n",
    "df3 = df3.drop(\"AirTime\", axis = 1)\n",
    "df3 = df3.drop(\"TaxiIn\", axis = 1)\n",
    "df3 = df3.drop(\"TaxiOut\", axis = 1)\n",
    "df3 = df3.drop(\"Id\", axis = 1)"
   ]
  },
  {
   "cell_type": "code",
   "execution_count": 35,
   "metadata": {},
   "outputs": [],
   "source": [
    "df3 = df3.drop(\"Dest\", axis = 1)"
   ]
  },
  {
   "cell_type": "code",
   "execution_count": 38,
   "metadata": {},
   "outputs": [],
   "source": [
    "df3 = df3.drop(\"Origin\", axis = 1)"
   ]
  },
  {
   "cell_type": "code",
   "execution_count": 40,
   "metadata": {},
   "outputs": [],
   "source": [
    "df3 = df3.drop(\"UniqueCarrier\", axis = 1)"
   ]
  },
  {
   "cell_type": "code",
   "execution_count": 41,
   "metadata": {},
   "outputs": [
    {
     "data": {
      "text/plain": [
       "LogisticRegression()"
      ]
     },
     "execution_count": 41,
     "metadata": {},
     "output_type": "execute_result"
    }
   ],
   "source": [
    "logreg.fit(df3, target)"
   ]
  },
  {
   "cell_type": "code",
   "execution_count": null,
   "metadata": {},
   "outputs": [],
   "source": []
  }
 ],
 "metadata": {
  "kernelspec": {
   "display_name": "Python 3",
   "language": "python",
   "name": "python3"
  },
  "language_info": {
   "codemirror_mode": {
    "name": "ipython",
    "version": 3
   },
   "file_extension": ".py",
   "mimetype": "text/x-python",
   "name": "python",
   "nbconvert_exporter": "python",
   "pygments_lexer": "ipython3",
   "version": "3.8.3"
  }
 },
 "nbformat": 4,
 "nbformat_minor": 4
}
